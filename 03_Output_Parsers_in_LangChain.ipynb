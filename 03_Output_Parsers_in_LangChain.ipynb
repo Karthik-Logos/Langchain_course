{
 "cells": [
  {
   "cell_type": "code",
   "execution_count": 2,
   "metadata": {},
   "outputs": [],
   "source": [
    "from dotenv import load_dotenv\n",
    "import os\n",
    "\n",
    "# Load the .env file\n",
    "load_dotenv()\n",
    "openai_api_key = os.getenv(\"OPENAI_API_KEY\")"
   ]
  },
  {
   "cell_type": "markdown",
   "metadata": {},
   "source": [
    "###  **What are Outputparsers in Langchain**\n",
    "Output parsers in LangChain are components that convert the text responses from language models into structured data formats that your application can more easily use. They act as the bridge between the unstructured text output from LLMs and structured data formats needed for downstream processing.\n",
    "\n",
    "##### Why Use Output Parsers?\n",
    "- Converts free-form text into structured data \n",
    "- Helps extract reliable & clean responses \n",
    "- Useful for API calls, automation, and databases\n",
    "\n"
   ]
  },
  {
   "cell_type": "markdown",
   "metadata": {},
   "source": [
    "### Types of Output Parsers in LangChain\n",
    "\n",
    "- StringOutputParser: The simplest parser that just returns the raw string output.\n",
    "- JSONOutputParser: Parses LLM responses into JSON objects.\n",
    "- PydanticOutputParser: Converts outputs into Pydantic models, providing schema validation.\n",
    "- StructuredOutputParser: Parses outputs into predefined structured formats."
   ]
  },
  {
   "cell_type": "markdown",
   "metadata": {},
   "source": [
    "### StringOutputParser"
   ]
  },
  {
   "cell_type": "code",
   "execution_count": 3,
   "metadata": {},
   "outputs": [
    {
     "name": "stdout",
     "output_type": "stream",
     "text": [
      "Why do programmers prefer dark mode? Because the light attracts bugs!\n"
     ]
    }
   ],
   "source": [
    "from langchain_core.output_parsers import StrOutputParser\n",
    "from langchain_core.prompts import ChatPromptTemplate\n",
    "from langchain_openai import ChatOpenAI\n",
    "\n",
    "prompt = ChatPromptTemplate.from_template(\"Tell me a short joke about {topic}\")\n",
    "model = ChatOpenAI()\n",
    "string_parser = StrOutputParser()\n",
    "\n",
    "chain = prompt | model | string_parser\n",
    "\n",
    "result = chain.invoke({\"topic\": \"programming\"})\n",
    "print(result)  # Prints the raw text response from the LLM"
   ]
  },
  {
   "cell_type": "markdown",
   "metadata": {},
   "source": [
    "### JSONOutputParser"
   ]
  },
  {
   "cell_type": "code",
   "execution_count": 4,
   "metadata": {},
   "outputs": [
    {
     "name": "stdout",
     "output_type": "stream",
     "text": [
      "Return a JSON object.\n",
      "{'name': 'Elena Rodriguez', 'age': 28, 'background': 'Elena grew up in a small town in Mexico where she learned traditional healing practices from her grandmother. She later moved to the city to study medicine and now works as a doctor in a busy hospital.', 'skills': ['Herbal medicine', 'Acupuncture', 'Surgery']}\n"
     ]
    }
   ],
   "source": [
    "from langchain_core.output_parsers import JsonOutputParser\n",
    "from langchain_core.prompts import ChatPromptTemplate\n",
    "from langchain_openai import ChatOpenAI\n",
    "\n",
    "# Define the structure we want\n",
    "json_parser = JsonOutputParser()\n",
    "\n",
    "# Create a prompt that asks for JSON format\n",
    "prompt = ChatPromptTemplate.from_template(\"\"\"\n",
    "Generate information about a fictional character.\n",
    "Return it as a JSON with the following keys: name, age, background, skills.\n",
    "{format_instructions}\n",
    "\"\"\")\n",
    "\n",
    "# Format the prompt with instructions\n",
    "format_instructions = json_parser.get_format_instructions()\n",
    "print(format_instructions)\n",
    "\n",
    "model = ChatOpenAI(temperature=0)\n",
    "# Create the chain but pass the format_instructions when invoking\n",
    "chain = prompt | model | json_parser\n",
    "\n",
    "# Pass the format_instructions in the input dictionary\n",
    "result = chain.invoke({\"format_instructions\": format_instructions})\n",
    "print(result)  # Prints a Python dictionary"
   ]
  },
  {
   "cell_type": "markdown",
   "metadata": {},
   "source": [
    "### PydanticOutputParser"
   ]
  },
  {
   "cell_type": "code",
   "execution_count": 5,
   "metadata": {},
   "outputs": [
    {
     "name": "stdout",
     "output_type": "stream",
     "text": [
      "name='Aria Nightshade' age=28 skills=['Stealth', 'Archery', 'Lockpicking', 'Disguise'] background='Aria Nightshade is a skilled rogue who grew up on the streets of the bustling city of Valoria. She learned to fend for herself from a young age, using her quick wit and nimble fingers to survive. As she got older, she honed her skills in stealth and archery, becoming a sought-after thief for high-stakes heists. Despite her shady profession, Aria has a strong sense of justice and often uses her talents to help those in need. She is known for her daring escapades and ability to outsmart even the most cunning adversaries.'\n",
      "Aria Nightshade\n",
      "['Stealth', 'Archery', 'Lockpicking', 'Disguise']\n"
     ]
    }
   ],
   "source": [
    "from langchain_core.output_parsers import PydanticOutputParser\n",
    "from langchain_core.prompts import ChatPromptTemplate\n",
    "from langchain_openai import ChatOpenAI\n",
    "from pydantic import BaseModel, Field\n",
    "from typing import List\n",
    "\n",
    "# Define our data model\n",
    "class Character(BaseModel):\n",
    "    name: str = Field(description=\"The character's name\")\n",
    "    age: int = Field(description=\"The character's age\")\n",
    "    skills: List[str] = Field(description=\"The character's abilities\")\n",
    "    background: str = Field(description=\"Short biography of the character\")\n",
    "\n",
    "# Create the parser\n",
    "parser = PydanticOutputParser(pydantic_object=Character)\n",
    "\n",
    "# Set up the prompt\n",
    "prompt = ChatPromptTemplate.from_template(\"\"\"\n",
    "Create a detailed fictional character profile.\n",
    "{format_instructions}\n",
    "\"\"\")\n",
    "\n",
    "# Get formatting instructions\n",
    "format_instructions = parser.get_format_instructions()\n",
    "formatted_prompt = prompt.format(format_instructions=format_instructions)\n",
    "\n",
    "model = ChatOpenAI(temperature=0.7)\n",
    "chain = prompt | model | parser\n",
    "\n",
    "result = chain.invoke({'format_instructions': format_instructions})\n",
    "print(result)  # Prints a Character object that can be accessed with dot notation\n",
    "print(result.name)  # Access specific fields\n",
    "print(result.skills)"
   ]
  },
  {
   "cell_type": "markdown",
   "metadata": {},
   "source": [
    "### StructuredOutputParser"
   ]
  },
  {
   "cell_type": "code",
   "execution_count": 6,
   "metadata": {},
   "outputs": [
    {
     "name": "stdout",
     "output_type": "stream",
     "text": [
      "{'title': 'Exploring the World of Artificial Intelligence', 'summary': 'This article delves into the fascinating realm of artificial intelligence, discussing its history, current applications, and future potential.', 'key_points': '1. The origins of artificial intelligence date back to the 1950s. 2. AI is used in various industries such as healthcare, finance, and transportation. 3. Machine learning and deep learning are key components of AI technology. 4. The ethical implications of AI development are a growing concern. 5. The future of AI holds promise for advancements in robotics, autonomous vehicles, and more.', 'audience': 'Technology enthusiasts, students, and professionals interested in learning more about artificial intelligence.'}\n",
      "Exploring the World of Artificial Intelligence\n",
      "1. The origins of artificial intelligence date back to the 1950s. 2. AI is used in various industries such as healthcare, finance, and transportation. 3. Machine learning and deep learning are key components of AI technology. 4. The ethical implications of AI development are a growing concern. 5. The future of AI holds promise for advancements in robotics, autonomous vehicles, and more.\n"
     ]
    }
   ],
   "source": [
    "# from langchain_core.output_parsers import ResponseSchema , StructuredOutputParser\n",
    "from langchain.output_parsers.structured import StructuredOutputParser, ResponseSchema\n",
    "from langchain_core.prompts import ChatPromptTemplate\n",
    "from langchain_openai import ChatOpenAI\n",
    "\n",
    "# Define the response schemas\n",
    "response_schemas = [\n",
    "    ResponseSchema(name=\"title\", description=\"The title of the article\"),\n",
    "    ResponseSchema(name=\"summary\", description=\"A brief summary of the article's content\"),\n",
    "    ResponseSchema(name=\"key_points\", description=\"3-5 key points from the article\"),\n",
    "    ResponseSchema(name=\"audience\", description=\"The intended audience for this article\")\n",
    "]\n",
    "\n",
    "# Create the parser\n",
    "parser = StructuredOutputParser.from_response_schemas(response_schemas)\n",
    "\n",
    "# Create the prompt\n",
    "prompt = ChatPromptTemplate.from_template(\"\"\"\n",
    "Write an article outline about {topic}.\n",
    "{format_instructions}\n",
    "\"\"\")\n",
    "\n",
    "# Format the prompt with instructions\n",
    "format_instructions = parser.get_format_instructions()\n",
    "formatted_prompt = prompt.format(format_instructions=format_instructions, topic=\"artificial intelligence\")\n",
    "\n",
    "model = ChatOpenAI(temperature=0)\n",
    "chain = prompt | model | parser\n",
    "\n",
    "result = chain.invoke({\"topic\": \"artificial intelligence\" , \"format_instructions\": format_instructions})\n",
    "print(result)  # Prints a dictionary with keys matching the schema names\n",
    "print(result[\"title\"])  # Access specific fields by dictionary keys\n",
    "print(result[\"key_points\"])"
   ]
  },
  {
   "cell_type": "code",
   "execution_count": null,
   "metadata": {},
   "outputs": [],
   "source": []
  },
  {
   "cell_type": "code",
   "execution_count": null,
   "metadata": {},
   "outputs": [],
   "source": []
  }
 ],
 "metadata": {
  "kernelspec": {
   "display_name": "Course",
   "language": "python",
   "name": "python3"
  },
  "language_info": {
   "codemirror_mode": {
    "name": "ipython",
    "version": 3
   },
   "file_extension": ".py",
   "mimetype": "text/x-python",
   "name": "python",
   "nbconvert_exporter": "python",
   "pygments_lexer": "ipython3",
   "version": "3.12.7"
  }
 },
 "nbformat": 4,
 "nbformat_minor": 2
}
